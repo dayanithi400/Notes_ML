{
  "cells": [
    {
      "cell_type": "markdown",
      "metadata": {
        "id": "3wF5wszaj97Y"
      },
      "source": [
        "# TensorFlow 2 quickstart"
      ]
    },
    {
      "cell_type": "markdown",
      "metadata": {
        "id": "04QgGZc9bF5D"
      },
      "source": [
        "This short introduction uses [Keras](https://www.tensorflow.org/guide/keras/overview) to:\n",
        "\n",
        "1. Load a prebuilt dataset.\n",
        "1. Build a neural network machine learning model that classifies images.\n",
        "2. Train this neural network.\n",
        "3. Evaluate the accuracy of the model."
      ]
    },
    {
      "cell_type": "markdown",
      "metadata": {
        "id": "nnrWf3PCEzXL"
      },
      "source": [
        "## Set up TensorFlow\n",
        "\n",
        "Import TensorFlow into your program to get started:"
      ]
    },
    {
      "cell_type": "code",
      "execution_count": 40,
      "metadata": {
        "id": "0trJmd6DjqBZ",
        "colab": {
          "base_uri": "https://localhost:8080/"
        },
        "outputId": "cd086e74-7ebf-4f82-981d-55ddb54eb34f"
      },
      "outputs": [
        {
          "output_type": "stream",
          "name": "stdout",
          "text": [
            "TensorFlow version: 2.8.2\n"
          ]
        }
      ],
      "source": [
        "import numpy\n",
        "import tensorflow as tf\n",
        "from keras.models import Sequential \n",
        "from keras.layers import Activation, Dense, Reshape, Flatten\n",
        "from keras import initializers \n",
        "from keras import regularizers \n",
        "from keras import constraints \n",
        "print(\"TensorFlow version:\", tf.__version__)"
      ]
    },
    {
      "cell_type": "markdown",
      "metadata": {
        "id": "7NAbSZiaoJ4z"
      },
      "source": [
        "## Load a dataset\n",
        "\n",
        "Load and prepare the [MNIST dataset](http://yann.lecun.com/exdb/mnist/). \n",
        "\n",
        "The MNIST database of handwritten digits, has a training set of 60,000 examples, and a test set of 10,000 examples. It is a subset of a larger set available from NIST. The digits have been size-normalized and centered in a fixed-size image.It is a good database for people who want to try learning techniques and pattern recognition methods on real-world data while spending minimal efforts on preprocessing and formatting.\n",
        "\n",
        "Convert the sample data from integers to floating-point numbers:"
      ]
    },
    {
      "cell_type": "code",
      "execution_count": 25,
      "metadata": {
        "id": "7FP5258xjs-v",
        "colab": {
          "base_uri": "https://localhost:8080/"
        },
        "outputId": "530809e2-44f6-4e0c-9abf-52e4ba6bfcaa"
      },
      "outputs": [
        {
          "output_type": "stream",
          "name": "stdout",
          "text": [
            "Downloading data from https://storage.googleapis.com/tensorflow/tf-keras-datasets/mnist.npz\n",
            "11493376/11490434 [==============================] - 0s 0us/step\n",
            "11501568/11490434 [==============================] - 0s 0us/step\n"
          ]
        }
      ],
      "source": [
        "mnist = tf.keras.datasets.mnist\n",
        "\n",
        "(x_train, y_train), (x_test, y_test) = mnist.load_data()\n",
        "x_train, x_test = x_train / 255.0, x_test / 255.0"
      ]
    },
    {
      "cell_type": "markdown",
      "source": [
        "Activations \n",
        "\n",
        "In machine learning, activation function is a special function used to find whether a specific neuron is activated or not. Basically, the activation function does a nonlinear transformation of the input data and thus enable the neurons to learn better. Output of a neuron depends on the activation function.\n"
      ],
      "metadata": {
        "id": "K6imereWmHB3"
      }
    },
    {
      "cell_type": "code",
      "source": [
        "#creates a new model using Sequential API.\n",
        "model = Sequential()\n",
        "# creates a new Dense layer and add it into the model.\n",
        "# Dense is an entry level layer provided by Keras, \n",
        "# which accepts the number of neurons or units (32) as its required parameter. \n",
        "# If the layer is first layer, then we need to provide Input Shape, (16,) as well. \n",
        "# Otherwise, the output of the previous layer will be used as input of the next layer.\n",
        "\n",
        "# input_shape represent the shape of input data.\n",
        "# kernel_initializer represent initializer to be used. \n",
        "#    he_uniform function is set as value.\n",
        "# kernel_regularizer represent regularizer to be used. \n",
        "#    None is set as value.\n",
        "# kernel_constraint represent constraint to be used. \n",
        "#    MaxNorm function is set as value.\n",
        "# activation represent activation to be used. \n",
        "# relu function is set as value.\n",
        "\n",
        "model.add(Dense(32, input_shape=(16,), kernel_initializer = 'he_uniform', \n",
        "   kernel_regularizer = None, kernel_constraint = 'MaxNorm', activation = 'relu')) \n",
        "model.add(Dense(16, activation = 'relu')) \n",
        "#creates final Dense layer with 8 units.\n",
        "model.add(Dense(8))"
      ],
      "metadata": {
        "id": "foZUBkmIY0Zs"
      },
      "execution_count": 3,
      "outputs": []
    },
    {
      "cell_type": "code",
      "source": [
        "#Generates 0 for all inputs\n",
        "\n",
        "my_init = initializers.Zeros() \n",
        "model = Sequential() \n",
        "model.add(Dense(512, activation = 'relu', input_shape = (784,), \n",
        "   kernel_initializer = my_init))\n"
      ],
      "metadata": {
        "id": "XUBrRRNHbTwG"
      },
      "execution_count": 4,
      "outputs": []
    },
    {
      "cell_type": "code",
      "source": [
        "#Generates 1 for all inputs\n",
        "\n",
        "my_init = initializers.Ones() \n",
        "model.add(Dense(512, activation = 'relu', input_shape = (784,), \n",
        "   kernel_initializer = my_init))"
      ],
      "metadata": {
        "id": "A27aheF-bxmo"
      },
      "execution_count": 9,
      "outputs": []
    },
    {
      "cell_type": "code",
      "source": [
        "#Generate value using uniform distribution of input data\n",
        "\n",
        "my_init = initializers.RandomUniform(minval = -0.05, maxval = 0.05, seed = None) \n",
        "model.add(Dense(512, activation = 'relu', input_shape = (784,), \n",
        "   kernel_initializer = my_init))\n",
        "\n",
        "# minval represent the lower bound of the random values to generate\n",
        "# maxval represent the upper bound of the random values to generate"
      ],
      "metadata": {
        "id": "iR9GfFd4dEfb"
      },
      "execution_count": 11,
      "outputs": []
    },
    {
      "cell_type": "code",
      "source": [
        "#Generates value based on the input shape and output shape of the layer along with the specified scale.\n",
        "\n",
        "my_init = initializers.VarianceScaling(\n",
        "   scale = 1.0, mode = 'fan_in', distribution = 'normal', seed = None) \n",
        "model.add(Dense(512, activation = 'relu', input_shape = (784,), \n",
        "   kernel_initializer = my_init))\n",
        "\n",
        "# fan_in represents the number of input units\n",
        "# fan_out represents the number of output units\n",
        "# scale represent the scaling factor\n",
        "# mode represent any one of fan_in, fan_out and fan_avg values\n",
        "# distribution represent either of normal or uniform"
      ],
      "metadata": {
        "id": "GlStHjO_ef3V"
      },
      "execution_count": 14,
      "outputs": []
    },
    {
      "cell_type": "code",
      "source": [
        "#Generates identity matrix\n",
        "\n",
        "my_init = initializers.Identity(gain = 1.0)\n",
        "model.add(Dense(512, activation = 'relu', input_shape = (784,), kernel_initializer = my_init))"
      ],
      "metadata": {
        "id": "MSM0NTDliPzZ"
      },
      "execution_count": 18,
      "outputs": []
    },
    {
      "cell_type": "code",
      "source": [
        "#Constraints weights to be unit form\n",
        "\n",
        "my_constrain = constraints.UnitNorm(axis = 0) \n",
        "model = Sequential() \n",
        "model.add(Dense(512, activation = 'relu', input_shape = (784,), \n",
        "   kernel_constraint = my_constrain))"
      ],
      "metadata": {
        "id": "ZdO7nan3e9uU"
      },
      "execution_count": 51,
      "outputs": []
    },
    {
      "cell_type": "code",
      "source": [
        "#Constraints weight to norm less than or equals to the given value.\n",
        "\n",
        "my_constrain = constraints.MaxNorm(max_value = 2, axis = 0) \n",
        "model = Sequential() \n",
        "model.add(Dense(512, activation = 'relu', input_shape = (784,), \n",
        "   kernel_constraint = my_constrain))"
      ],
      "metadata": {
        "id": "arI48YF-k-sW"
      },
      "execution_count": 20,
      "outputs": []
    },
    {
      "cell_type": "code",
      "source": [
        "# Applying Sigmoid function \n",
        "\n",
        "model = Sequential() \n",
        "model.add(Dense(512, activation = 'sigmoid', input_shape = (784,)))"
      ],
      "metadata": {
        "id": "KHQa737ol1uk"
      },
      "execution_count": 21,
      "outputs": []
    },
    {
      "cell_type": "code",
      "source": [
        "#Applies Rectified Linear Unit.\n",
        "\n",
        "model = Sequential() \n",
        "model.add(Dense(512, activation = 'relu', input_shape = (784,)))"
      ],
      "metadata": {
        "id": "yotEfAHCqt7f"
      },
      "execution_count": 32,
      "outputs": []
    },
    {
      "cell_type": "code",
      "source": [
        "#Applies Scaled exponential linear unit.\n",
        "\n",
        "model = Sequential() \n",
        "model.add(Dense(512, activation = 'selu', input_shape = (784,)))"
      ],
      "metadata": {
        "id": "gQ5ZmkWpq21p"
      },
      "execution_count": 33,
      "outputs": []
    },
    {
      "cell_type": "code",
      "source": [
        "#Reshape\n",
        "\n",
        "model = Sequential() \n",
        "layer_1 = Dense(16, input_shape = (8,8)) \n",
        "model.add(layer_1) \n",
        "layer_2 = Reshape((16, 8)) \n",
        "model.add(layer_2) \n"
      ],
      "metadata": {
        "id": "9NtJz55_rS5m"
      },
      "execution_count": 38,
      "outputs": []
    },
    {
      "cell_type": "code",
      "source": [
        "#Flattern\n",
        "\n",
        "model = Sequential() \n",
        "layer_1 = Dense(16, input_shape=(8,8)) \n",
        "model.add(layer_1) \n",
        "layer_2 = Flatten() \n",
        "model.add(layer_2) "
      ],
      "metadata": {
        "id": "zKySBqPYrnM3"
      },
      "execution_count": 41,
      "outputs": []
    },
    {
      "cell_type": "markdown",
      "metadata": {
        "id": "BPZ68wASog_I"
      },
      "source": [
        "## Build a machine learning model\n",
        "\n",
        "Build a `tf.keras.Sequential` model by stacking layers."
      ]
    },
    {
      "cell_type": "markdown",
      "metadata": {
        "id": "l2hiez2eIUz8"
      },
      "source": [
        "For each example, the model returns a vector of [logits](https://developers.google.com/machine-learning/glossary#logits) or [log-odds](https://developers.google.com/machine-learning/glossary#log-odds) scores, one for each class."
      ]
    },
    {
      "cell_type": "code",
      "execution_count": 42,
      "metadata": {
        "id": "OeOrNdnkEEcR",
        "colab": {
          "base_uri": "https://localhost:8080/"
        },
        "outputId": "d2c69d84-35ed-4cad-8d84-7a1ee6f4792f"
      },
      "outputs": [
        {
          "output_type": "execute_result",
          "data": {
            "text/plain": [
              "array([[ 0.09333167, -0.16077016, -0.4021266 ,  0.10139152,  0.06933364,\n",
              "         0.68370056, -0.04405575,  0.3915459 , -0.3089633 ,  0.10826982]],\n",
              "      dtype=float32)"
            ]
          },
          "metadata": {},
          "execution_count": 42
        }
      ],
      "source": [
        "model = tf.keras.models.Sequential([\n",
        "  tf.keras.layers.Flatten(input_shape=(28, 28)),\n",
        "  tf.keras.layers.Dense(128, activation='relu'),\n",
        "  tf.keras.layers.Dropout(0.2),\n",
        "  tf.keras.layers.Dense(10)\n",
        "])\n",
        "predictions = model(x_train[:1]).numpy()\n",
        "predictions"
      ]
    },
    {
      "cell_type": "markdown",
      "metadata": {
        "id": "tgjhDQGcIniO"
      },
      "source": [
        "The `tf.nn.softmax` function converts these logits to *probabilities* for each class: "
      ]
    },
    {
      "cell_type": "code",
      "execution_count": 43,
      "metadata": {
        "id": "zWSRnQ0WI5eq",
        "colab": {
          "base_uri": "https://localhost:8080/"
        },
        "outputId": "c6a4447f-712d-4a53-bed1-96d9f21d5d2b"
      },
      "outputs": [
        {
          "output_type": "execute_result",
          "data": {
            "text/plain": [
              "array([[0.09923732, 0.07696973, 0.06046447, 0.10004038, 0.09688415,\n",
              "        0.17908901, 0.08649846, 0.13371734, 0.06636827, 0.10073085]],\n",
              "      dtype=float32)"
            ]
          },
          "metadata": {},
          "execution_count": 43
        }
      ],
      "source": [
        "tf.nn.softmax(predictions).numpy()"
      ]
    },
    {
      "cell_type": "markdown",
      "metadata": {
        "id": "he5u_okAYS4a"
      },
      "source": [
        "Note: It is possible to bake the `tf.nn.softmax` function into the activation function for the last layer of the network. While this can make the model output more directly interpretable, this approach is discouraged as it's impossible to provide an exact and numerically stable loss calculation for all models when using a softmax output. "
      ]
    },
    {
      "cell_type": "markdown",
      "metadata": {
        "id": "hQyugpgRIyrA"
      },
      "source": [
        "Define a loss function for training using `losses.SparseCategoricalCrossentropy`, which takes a vector of logits and a `True` index and returns a scalar loss for each example."
      ]
    },
    {
      "cell_type": "code",
      "execution_count": 23,
      "metadata": {
        "id": "RSkzdv8MD0tT"
      },
      "outputs": [],
      "source": [
        "loss_fn = tf.keras.losses.SparseCategoricalCrossentropy(from_logits=True)"
      ]
    },
    {
      "cell_type": "markdown",
      "metadata": {
        "id": "SfR4MsSDU880"
      },
      "source": [
        "This loss is equal to the negative log probability of the true class: The loss is zero if the model is sure of the correct class.\n",
        "\n",
        "This untrained model gives probabilities close to random (1/10 for each class), so the initial loss should be close to `-tf.math.log(1/10) ~= 2.3`."
      ]
    },
    {
      "cell_type": "code",
      "execution_count": 44,
      "metadata": {
        "id": "NJWqEVrrJ7ZB",
        "colab": {
          "base_uri": "https://localhost:8080/"
        },
        "outputId": "bb14d56c-44b2-4ba4-ca57-540eb136ca05"
      },
      "outputs": [
        {
          "output_type": "execute_result",
          "data": {
            "text/plain": [
              "1.7198724"
            ]
          },
          "metadata": {},
          "execution_count": 44
        }
      ],
      "source": [
        "loss_fn(y_train[:1], predictions).numpy()"
      ]
    },
    {
      "cell_type": "markdown",
      "metadata": {
        "id": "ada44eb947d4"
      },
      "source": [
        "Before you start training, configure and compile the model using Keras `Model.compile`. Set the [`optimizer`](https://www.tensorflow.org/api_docs/python/tf/keras/optimizers) class to `adam`, set the `loss` to the `loss_fn` function you defined earlier, and specify a metric to be evaluated for the model by setting the `metrics` parameter to `accuracy`."
      ]
    },
    {
      "cell_type": "code",
      "execution_count": 45,
      "metadata": {
        "id": "9foNKHzTD2Vo"
      },
      "outputs": [],
      "source": [
        "model.compile(optimizer='adam',\n",
        "              loss=loss_fn,\n",
        "              metrics=['accuracy'])"
      ]
    },
    {
      "cell_type": "markdown",
      "metadata": {
        "id": "ix4mEL65on-w"
      },
      "source": [
        "## Train and evaluate your model\n",
        "\n",
        "Use the `Model.fit` method to adjust your model parameters and minimize the loss: "
      ]
    },
    {
      "cell_type": "code",
      "execution_count": 46,
      "metadata": {
        "id": "y7suUbJXVLqP",
        "colab": {
          "base_uri": "https://localhost:8080/"
        },
        "outputId": "e1609abf-81f9-48c5-ed3c-982acbe86d32"
      },
      "outputs": [
        {
          "output_type": "stream",
          "name": "stdout",
          "text": [
            "Epoch 1/5\n",
            "1875/1875 [==============================] - 7s 3ms/step - loss: 0.2948 - accuracy: 0.9138\n",
            "Epoch 2/5\n",
            "1875/1875 [==============================] - 4s 2ms/step - loss: 0.1394 - accuracy: 0.9577\n",
            "Epoch 3/5\n",
            "1875/1875 [==============================] - 4s 2ms/step - loss: 0.1056 - accuracy: 0.9683\n",
            "Epoch 4/5\n",
            "1875/1875 [==============================] - 4s 2ms/step - loss: 0.0873 - accuracy: 0.9738\n",
            "Epoch 5/5\n",
            "1875/1875 [==============================] - 4s 2ms/step - loss: 0.0739 - accuracy: 0.9764\n"
          ]
        },
        {
          "output_type": "execute_result",
          "data": {
            "text/plain": [
              "<keras.callbacks.History at 0x7f225e899a90>"
            ]
          },
          "metadata": {},
          "execution_count": 46
        }
      ],
      "source": [
        "model.fit(x_train, y_train, epochs=5)"
      ]
    },
    {
      "cell_type": "markdown",
      "metadata": {
        "id": "4mDAAPFqVVgn"
      },
      "source": [
        "The `Model.evaluate` method checks the models performance, usually on a \"[Validation-set](https://developers.google.com/machine-learning/glossary#validation-set)\" or \"[Test-set](https://developers.google.com/machine-learning/glossary#test-set)\"."
      ]
    },
    {
      "cell_type": "code",
      "execution_count": 47,
      "metadata": {
        "id": "F7dTAzgHDUh7",
        "colab": {
          "base_uri": "https://localhost:8080/"
        },
        "outputId": "823ed5d2-28c9-4719-af61-c2869bffd22b"
      },
      "outputs": [
        {
          "output_type": "stream",
          "name": "stdout",
          "text": [
            "313/313 - 1s - loss: 0.0711 - accuracy: 0.9782 - 512ms/epoch - 2ms/step\n"
          ]
        },
        {
          "output_type": "execute_result",
          "data": {
            "text/plain": [
              "[0.07109930366277695, 0.9782000184059143]"
            ]
          },
          "metadata": {},
          "execution_count": 47
        }
      ],
      "source": [
        "model.evaluate(x_test,  y_test, verbose=2)"
      ]
    },
    {
      "cell_type": "markdown",
      "metadata": {
        "id": "T4JfEh7kvx6m"
      },
      "source": [
        "The image classifier is now trained to ~98% accuracy on this dataset. To learn more, read the [TensorFlow tutorials](https://www.tensorflow.org/tutorials/)."
      ]
    },
    {
      "cell_type": "markdown",
      "metadata": {
        "id": "Aj8NrlzlJqDG"
      },
      "source": [
        "If you want your model to return a probability, you can wrap the trained model, and attach the softmax to it:"
      ]
    },
    {
      "cell_type": "code",
      "execution_count": 48,
      "metadata": {
        "id": "rYb6DrEH0GMv"
      },
      "outputs": [],
      "source": [
        "probability_model = tf.keras.Sequential([\n",
        "  model,\n",
        "  tf.keras.layers.Softmax()\n",
        "])"
      ]
    },
    {
      "cell_type": "code",
      "execution_count": 49,
      "metadata": {
        "id": "cnqOZtUp1YR_",
        "colab": {
          "base_uri": "https://localhost:8080/"
        },
        "outputId": "12a6d31d-b880-46a7-aa00-e1a80406eea5"
      },
      "outputs": [
        {
          "output_type": "execute_result",
          "data": {
            "text/plain": [
              "<tf.Tensor: shape=(5, 10), dtype=float32, numpy=\n",
              "array([[1.2262951e-08, 5.5873182e-09, 3.2069303e-05, 2.3566019e-04,\n",
              "        1.0957610e-11, 8.6055032e-08, 7.1358230e-14, 9.9973029e-01,\n",
              "        6.1915432e-07, 1.2540502e-06],\n",
              "       [9.7944017e-09, 1.8437070e-04, 9.9974543e-01, 5.4759064e-05,\n",
              "        4.4921193e-14, 2.6727346e-07, 3.8467618e-08, 5.0208125e-14,\n",
              "        1.5167878e-05, 1.2717443e-12],\n",
              "       [3.5975575e-07, 9.9912924e-01, 2.7252705e-04, 3.2698677e-05,\n",
              "        2.6192691e-05, 5.1455363e-06, 1.8770234e-05, 1.7716298e-04,\n",
              "        3.2339510e-04, 1.4557519e-05],\n",
              "       [9.9991477e-01, 1.8184121e-08, 7.3918331e-05, 1.4835710e-07,\n",
              "        2.3475707e-07, 2.0281620e-06, 4.6315595e-06, 6.7319769e-07,\n",
              "        2.7045933e-08, 3.5114751e-06],\n",
              "       [2.6022110e-06, 1.5341131e-08, 6.3212174e-06, 3.7769635e-07,\n",
              "        9.9380022e-01, 1.2045654e-06, 5.1483453e-06, 5.9232429e-05,\n",
              "        4.0267332e-06, 6.1208564e-03]], dtype=float32)>"
            ]
          },
          "metadata": {},
          "execution_count": 49
        }
      ],
      "source": [
        "probability_model(x_test[:5])"
      ]
    }
  ],
  "metadata": {
    "colab": {
      "collapsed_sections": [],
      "provenance": []
    },
    "kernelspec": {
      "display_name": "Python 3",
      "name": "python3"
    }
  },
  "nbformat": 4,
  "nbformat_minor": 0
}